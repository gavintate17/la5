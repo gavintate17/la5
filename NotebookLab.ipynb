{
 "cells": [
  {
   "cell_type": "markdown",
   "id": "d0222fc9-0269-4b89-9091-73d57f4d5166",
   "metadata": {},
   "source": [
    "# MA5 Notebook lab\n",
    "### Gavin Tate\n",
    "\n",
    "#### Task 1:\n",
    "Typeset the following equations from Appendix A of Bramer:\n",
    "\n",
    "log<sub>2</sub>(a x b) = log<sub>2</sub>a + log<sub>2</sub>b\n",
    "\n",
    "log<sub>2</sub>(a/b) = log<sub>2</sub>a - log<sub>2</sub>b\n",
    "\n",
    "log<sub>2</sub>(a<sup>n</sup>) = n x log<sub>2</sub>a\n",
    "\n",
    "log<sub>2</sub>(1/a) = -log<sub>2</sub>a\n",
    "\n",
    "i=m&nbsp;j=n &nbsp;&nbsp; j=n&nbsp;i=m\n",
    "\n",
    "&#931;&nbsp;&nbsp;&nbsp;&nbsp;&nbsp;&nbsp;&#931; a<sub>ij</sub> = &#931;&nbsp;&nbsp;&nbsp;&nbsp;&nbsp;&nbsp;&#931;a<sub>ij</sub>.\n",
    "\n",
    "i=1; &nbsp;&nbsp;j=1&nbsp;&nbsp; j=1 i=1\n",
    "\n",
    "Source: <a href=\"https://www.amazon.com/Research-Development-Intelligent-Systems-XXIX/dp/1447147383/ref=sr_1_3?dib=eyJ2IjoiMSJ9.32wXOKa0nuaYzLXZfZE1iFl0vQVlgct-p036jZTDR33-TEah8iKpoErCe-i7z0i2tb-5ctkSB29bYgkRQzyRsGH3fZc9B8U06DGHdd51Q67rCLFH1hpLVZghyHZIe0mKe2yT78N6XcthZ55nLcOp2tpoiQcW3TZzZz4L_ME_8dIdxQZ2PZqwYy-H3znvCaJ5seoB9-tZTkqr4xZkVLl-u1MjaFmJIqS1Ym5VnfIpOAk.d1TYfDVEw6pHT0KPpFBmsIrEqchS8Tln7t4RLccLSX8&dib_tag=se&qid=1758767029&refinements=p_27%3AMax+Bramer&s=books&sr=1-3\">Bramer Textbook</a>\n",
    "\n",
    "#### Task 2:\r\n",
    "$$\r\n",
    "\\bar{x} = \\frac{1}{n} \\sum_{i=1}^{n} x_i\r\n",
    "$$\r\n",
    "\n",
    "\n",
    "\n",
    "\\]\r\n"
   ]
  },
  {
   "cell_type": "code",
   "execution_count": 5,
   "id": "8ca2250c-389d-4d56-af4a-0221ecd0740f",
   "metadata": {},
   "outputs": [
    {
     "name": "stdout",
     "output_type": "stream",
     "text": [
      "Mean of list1: 48.39\n",
      "Mean of list2: 49.26\n"
     ]
    }
   ],
   "source": [
    "import random\n",
    "\n",
    "# Function to compute the mean of a 1D list of numbers\n",
    "def compute_mean(numbers):\n",
    "    return sum(numbers) / len(numbers)\n",
    "\n",
    "# Create two lists of 100 random numbers between 0 and 100\n",
    "list1 = [random.uniform(0, 100) for _ in range(100)]\n",
    "list2 = [random.uniform(0, 100) for _ in range(100)]\n",
    "\n",
    "# Calculate and print the mean of each list\n",
    "mean1 = compute_mean(list1)\n",
    "mean2 = compute_mean(list2)\n",
    "\n",
    "print(f\"Mean of list1: {mean1:.2f}\")\n",
    "print(f\"Mean of list2: {mean2:.2f}\")\n"
   ]
  },
  {
   "cell_type": "markdown",
   "id": "d38f4df9-6d38-4fe6-bb60-10e108c30084",
   "metadata": {},
   "source": [
    "#### Task 3:\n",
    "\n",
    "<img src=\"images.jpg\" alt=\"funny meme\">\n",
    "\n",
    "We often rely on instict to dictate our decisions, but data has a way of showing us \"objective\" truths outside of feeling. This meme is funny because cats lack any kind of processing along these lines, thus leaving a cute cat picture but with comical text."
   ]
  },
  {
   "cell_type": "code",
   "execution_count": null,
   "id": "dcf86ee5-daa0-459d-80c3-469898e7e110",
   "metadata": {},
   "outputs": [],
   "source": []
  }
 ],
 "metadata": {
  "kernelspec": {
   "display_name": "Python 3 (ipykernel)",
   "language": "python",
   "name": "python3"
  },
  "language_info": {
   "codemirror_mode": {
    "name": "ipython",
    "version": 3
   },
   "file_extension": ".py",
   "mimetype": "text/x-python",
   "name": "python",
   "nbconvert_exporter": "python",
   "pygments_lexer": "ipython3",
   "version": "3.12.4"
  }
 },
 "nbformat": 4,
 "nbformat_minor": 5
}
